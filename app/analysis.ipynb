{
 "cells": [
  {
   "cell_type": "code",
   "execution_count": 81,
   "metadata": {},
   "outputs": [],
   "source": [
    "import nltk\n",
    "from nltk.corpus import stopwords\n",
    "import analysis as an"
   ]
  },
  {
   "cell_type": "markdown",
   "metadata": {},
   "source": [
    "#### Write corpus directory from Feather file "
   ]
  },
  {
   "cell_type": "code",
   "execution_count": 65,
   "metadata": {},
   "outputs": [],
   "source": [
    "feather_filepath = '../scraper/data/uk_example/vacancy_descriptions.feather'\n",
    "an.write_corpus(feather_filepath, corpus_id='uk')"
   ]
  },
  {
   "cell_type": "markdown",
   "metadata": {},
   "source": [
    "#### Read corpus as Reader obj"
   ]
  },
  {
   "cell_type": "code",
   "execution_count": 67,
   "metadata": {},
   "outputs": [],
   "source": [
    "reader = an.read_corpus('uk')"
   ]
  },
  {
   "cell_type": "markdown",
   "metadata": {},
   "source": [
    "#### Use the Reader"
   ]
  },
  {
   "cell_type": "code",
   "execution_count": 71,
   "metadata": {},
   "outputs": [
    {
     "data": {
      "text/plain": [
       "14842"
      ]
     },
     "execution_count": 71,
     "metadata": {},
     "output_type": "execute_result"
    }
   ],
   "source": [
    "len(reader.fileids()) # number of vacancy descriptions"
   ]
  },
  {
   "cell_type": "code",
   "execution_count": 78,
   "metadata": {},
   "outputs": [
    {
     "data": {
      "text/plain": [
       "35.827121"
      ]
     },
     "execution_count": 78,
     "metadata": {},
     "output_type": "execute_result"
    }
   ],
   "source": [
    "len(reader.raw())/1e6 # units millions of characters"
   ]
  },
  {
   "cell_type": "code",
   "execution_count": 80,
   "metadata": {},
   "outputs": [
    {
     "data": {
      "text/plain": [
       "6.279366"
      ]
     },
     "execution_count": 80,
     "metadata": {},
     "output_type": "execute_result"
    }
   ],
   "source": [
    "len(reader.words())/1e6 # units millions of words"
   ]
  },
  {
   "cell_type": "code",
   "execution_count": 83,
   "metadata": {},
   "outputs": [],
   "source": [
    "cfd = nltk.ConditionalFreqDist(\n",
    "        (fileid, word) \n",
    "        for fileid in reader.fileids()\n",
    "        for word in reader.words(fileids=[fileid])\n",
    ")"
   ]
  },
  {
   "cell_type": "code",
   "execution_count": 125,
   "metadata": {},
   "outputs": [],
   "source": [
    "STOPWORDS_SET = set(stopwords.words('english'))\n",
    "PUNCTUATION_SET = set(v for v in string.punctuation)\n",
    "STOPWORDS_PUNCTUATION_SET = PUNCTUATION_SET.union(STOPWORDS_SET)\n",
    "\n",
    "def remove_stopwords_and_punctuation(tokens: list):\n",
    "    return([t for t in tokens if t not in PUNCTUATION_SET])"
   ]
  },
  {
   "cell_type": "code",
   "execution_count": 126,
   "metadata": {},
   "outputs": [],
   "source": [
    "corp_nostop = {\n",
    "    fileid: remove_stopwords_and_punctuation(reader.words(fileids=[fileid]))\n",
    "    for fileid in reader.fileids()\n",
    "}"
   ]
  },
  {
   "cell_type": "code",
   "execution_count": 127,
   "metadata": {},
   "outputs": [],
   "source": [
    "fds = {\n",
    "    fileid: nltk.FreqDist(words) for fileid, words in corp_nostop.items()\n",
    "}"
   ]
  },
  {
   "cell_type": "code",
   "execution_count": 130,
   "metadata": {},
   "outputs": [],
   "source": [
    "# specify keywords\n",
    "keywords = ['analyst', 'data', 'maths']"
   ]
  },
  {
   "cell_type": "code",
   "execution_count": 134,
   "metadata": {},
   "outputs": [
    {
     "data": {
      "text/plain": [
       "FreqDist({'on': 3, 'to': 3, 'is': 2, 'a': 2, 'the': 2, 'arlesey': 1, 'medical': 1, 'centre': 1, 'looking': 1, 'for': 1, ...})"
      ]
     },
     "execution_count": 134,
     "metadata": {},
     "output_type": "execute_result"
    }
   ],
   "source": [
    "import numpy as np\n",
    "import plotly.express as px\n",
    "\n",
    "def frac_of_texts_containing_word(word: str, reader):\n",
    "    return np.mean([(word in reader.words(fileid=[fileid]))\n",
    "                     for fileid in reader.fileids()])\n",
    "    \n",
    "def plot_frac_of_texts_with_kws(keywords: list):\n",
    "    df_fracs = pd.DataFrame({kw: frac_of_texts_containing_word(kw)\n",
    "                             for kw in keywords})\n",
    "    \n",
    "    #fig = px.bar(data_canada, x='year', y='pop')\n",
    "    #fig.show()"
   ]
  }
 ],
 "metadata": {
  "kernelspec": {
   "display_name": "Python 3",
   "language": "python",
   "name": "python3"
  },
  "language_info": {
   "codemirror_mode": {
    "name": "ipython",
    "version": 3
   },
   "file_extension": ".py",
   "mimetype": "text/x-python",
   "name": "python",
   "nbconvert_exporter": "python",
   "pygments_lexer": "ipython3",
   "version": "3.7.9"
  }
 },
 "nbformat": 4,
 "nbformat_minor": 2
}

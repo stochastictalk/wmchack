{
 "cells": [
  {
   "cell_type": "markdown",
   "metadata": {},
   "source": [
    "# Job Description Analysis\n",
    "\n",
    "**Author**: Jerome Wynne (jeromewynne@das-ltd.co.uk)\n",
    "\n",
    "**Created**: 5th November 2020  \n",
    "\n",
    "**Environment**: wmchack\n",
    "\n",
    "**Summary**: Classifying job roles: An NLP challenge using NHS Job descriptions, matching to Professional groups to (i.e. using FEDIP & AphA definition of analytical or civil service GORS/GSS/GDS)."
   ]
  },
  {
   "cell_type": "markdown",
   "metadata": {},
   "source": [
    "---\n",
    "\n",
    "### Write list of JSON files to Feather format "
   ]
  },
  {
   "cell_type": "code",
   "execution_count": 1,
   "metadata": {},
   "outputs": [],
   "source": [
    "import pandas as pd\n",
    "from glob import glob\n",
    "import json\n",
    "from time import time\n",
    "import html\n",
    "import nltk\n",
    "from matplotlib import pyplot as plt\n",
    "import seaborn as sns\n",
    "sns.set_style('darkgrid')\n",
    "import numpy as np\n",
    "from itertools import combinations_with_replacement"
   ]
  },
  {
   "cell_type": "code",
   "execution_count": 2,
   "metadata": {},
   "outputs": [],
   "source": [
    "def load_job_descriptions():\n",
    "    ''' Reads all .json files in /data into dataframe.\n",
    "\n",
    "        The dataframe constructed can be viewed in /logs/info.log.\n",
    "\n",
    "        Returns:\n",
    "            pd.DataFrame: dataframe where each row corresponds to one \n",
    "                            file.\n",
    "    '''\n",
    "    fps = glob(r'..\\data\\*.json')\n",
    "    fps = [fp for fp in fps if 'example' not in fp] # remove example.json\n",
    "    list_of_page_dct = []\n",
    "    for fp in fps: # read all of the files into a list of dicts\n",
    "        with open(fp, 'r', encoding='utf-8') as f:\n",
    "            list_of_page_dct += [json.load(f)]\n",
    "    \n",
    "    # flatten the list of dicts to a DataFrame\n",
    "    df = pd.json_normalize(list_of_page_dct)\n",
    "\n",
    "    return(df)"
   ]
  },
  {
   "cell_type": "code",
   "execution_count": 3,
   "metadata": {},
   "outputs": [],
   "source": [
    "df = load_job_descriptions()\n",
    "df.to_feather('../data/20201105_' + str(int(time())) + '_nhs_job_descriptions.feather')"
   ]
  },
  {
   "cell_type": "markdown",
   "metadata": {},
   "source": [
    "---\n",
    "\n",
    "## Load source data from Feather file, display essential information"
   ]
  },
  {
   "cell_type": "code",
   "execution_count": 4,
   "metadata": {},
   "outputs": [],
   "source": [
    "fp = glob('../data/*.feather')[0]\n",
    "df = pd.read_feather(fp)"
   ]
  },
  {
   "cell_type": "code",
   "execution_count": 5,
   "metadata": {},
   "outputs": [
    {
     "data": {
      "text/html": [
       "<div>\n",
       "<style scoped>\n",
       "    .dataframe tbody tr th:only-of-type {\n",
       "        vertical-align: middle;\n",
       "    }\n",
       "\n",
       "    .dataframe tbody tr th {\n",
       "        vertical-align: top;\n",
       "    }\n",
       "\n",
       "    .dataframe thead th {\n",
       "        text-align: right;\n",
       "    }\n",
       "</style>\n",
       "<table border=\"1\" class=\"dataframe\">\n",
       "  <thead>\n",
       "    <tr style=\"text-align: right;\">\n",
       "      <th></th>\n",
       "      <th>@context</th>\n",
       "      <th>@type</th>\n",
       "      <th>datePosted</th>\n",
       "      <th>description</th>\n",
       "      <th>employmentType</th>\n",
       "      <th>industry</th>\n",
       "      <th>title</th>\n",
       "      <th>url</th>\n",
       "      <th>validThrough</th>\n",
       "      <th>baseSalary.@type</th>\n",
       "      <th>...</th>\n",
       "      <th>hiringOrganization.url</th>\n",
       "      <th>jobLocation.@type</th>\n",
       "      <th>jobLocation.address.@type</th>\n",
       "      <th>jobLocation.address.addressCountry</th>\n",
       "      <th>jobLocation.address.addressLocality</th>\n",
       "      <th>jobLocation.address.postalCode</th>\n",
       "      <th>jobLocation.geo.@type</th>\n",
       "      <th>jobLocation.geo.latitude</th>\n",
       "      <th>jobLocation.geo.longitude</th>\n",
       "      <th>hiringOrganization.logo</th>\n",
       "    </tr>\n",
       "  </thead>\n",
       "  <tbody>\n",
       "    <tr>\n",
       "      <th>0</th>\n",
       "      <td>http://schema.org</td>\n",
       "      <td>JobPosting</td>\n",
       "      <td>2019-08-09T15:53:44+0100</td>\n",
       "      <td>&amp;lt;p&amp;gt;Stockton Hall is a highly specialist ...</td>\n",
       "      <td>FULL_TIME</td>\n",
       "      <td>Healthcare</td>\n",
       "      <td>Senior Staff Nurse £3000 Welcome Bonus</td>\n",
       "      <td>https://www.jobs.nhs.uk/xi/vacancy/915703981</td>\n",
       "      <td>2020-11-27T23:59:59+0000</td>\n",
       "      <td>MonetaryAmount</td>\n",
       "      <td>...</td>\n",
       "      <td>https://www.jobs.nhs.uk/xi/agency_info/?agency...</td>\n",
       "      <td>Place</td>\n",
       "      <td>PostalAddress</td>\n",
       "      <td>GB</td>\n",
       "      <td>Stockton on the Forest, York</td>\n",
       "      <td>YO32 9UN</td>\n",
       "      <td>GeoCoordinates</td>\n",
       "      <td>53.9954</td>\n",
       "      <td>-1.00281</td>\n",
       "      <td>None</td>\n",
       "    </tr>\n",
       "    <tr>\n",
       "      <th>1</th>\n",
       "      <td>http://schema.org</td>\n",
       "      <td>JobPosting</td>\n",
       "      <td>2019-08-21T07:54:40+0100</td>\n",
       "      <td>&amp;lt;p&amp;gt;Birmingham Community Healthcare NHS F...</td>\n",
       "      <td>TEMPORARY</td>\n",
       "      <td>Healthcare</td>\n",
       "      <td>Bank Level 8a Advanced Clinical Practitioner</td>\n",
       "      <td>https://www.jobs.nhs.uk/xi/vacancy/915718669</td>\n",
       "      <td>2021-09-20T23:59:59+0100</td>\n",
       "      <td>MonetaryAmount</td>\n",
       "      <td>...</td>\n",
       "      <td>https://www.jobs.nhs.uk/xi/agency_info/?agency...</td>\n",
       "      <td>Place</td>\n",
       "      <td>PostalAddress</td>\n",
       "      <td>GB</td>\n",
       "      <td>Birmingham</td>\n",
       "      <td>B7 4BN</td>\n",
       "      <td>GeoCoordinates</td>\n",
       "      <td>52.4873</td>\n",
       "      <td>-1.88581</td>\n",
       "      <td>https://www.jobs.nhs.uk/xi/db_image/logo/12565...</td>\n",
       "    </tr>\n",
       "    <tr>\n",
       "      <th>2</th>\n",
       "      <td>http://schema.org</td>\n",
       "      <td>JobPosting</td>\n",
       "      <td>2019-08-21T13:41:57+0100</td>\n",
       "      <td>&amp;lt;p&amp;gt;&amp;lt;strong&amp;gt;Are you looking for a c...</td>\n",
       "      <td>TEMPORARY</td>\n",
       "      <td>Healthcare</td>\n",
       "      <td>Band 5 Bank Staff Nurse RN RGN</td>\n",
       "      <td>https://www.jobs.nhs.uk/xi/vacancy/915719754</td>\n",
       "      <td>2021-05-04T23:59:59+0100</td>\n",
       "      <td>MonetaryAmount</td>\n",
       "      <td>...</td>\n",
       "      <td>https://www.jobs.nhs.uk/xi/agency_info/?agency...</td>\n",
       "      <td>Place</td>\n",
       "      <td>PostalAddress</td>\n",
       "      <td>GB</td>\n",
       "      <td>Leicester/Leicestershire/Rutland</td>\n",
       "      <td>LE16 7BN</td>\n",
       "      <td>GeoCoordinates</td>\n",
       "      <td>52.4872</td>\n",
       "      <td>-.931093</td>\n",
       "      <td>None</td>\n",
       "    </tr>\n",
       "  </tbody>\n",
       "</table>\n",
       "<p>3 rows × 28 columns</p>\n",
       "</div>"
      ],
      "text/plain": [
       "            @context       @type                datePosted  \\\n",
       "0  http://schema.org  JobPosting  2019-08-09T15:53:44+0100   \n",
       "1  http://schema.org  JobPosting  2019-08-21T07:54:40+0100   \n",
       "2  http://schema.org  JobPosting  2019-08-21T13:41:57+0100   \n",
       "\n",
       "                                         description employmentType  \\\n",
       "0  &lt;p&gt;Stockton Hall is a highly specialist ...      FULL_TIME   \n",
       "1  &lt;p&gt;Birmingham Community Healthcare NHS F...      TEMPORARY   \n",
       "2  &lt;p&gt;&lt;strong&gt;Are you looking for a c...      TEMPORARY   \n",
       "\n",
       "     industry                                         title  \\\n",
       "0  Healthcare        Senior Staff Nurse £3000 Welcome Bonus   \n",
       "1  Healthcare  Bank Level 8a Advanced Clinical Practitioner   \n",
       "2  Healthcare                Band 5 Bank Staff Nurse RN RGN   \n",
       "\n",
       "                                            url              validThrough  \\\n",
       "0  https://www.jobs.nhs.uk/xi/vacancy/915703981  2020-11-27T23:59:59+0000   \n",
       "1  https://www.jobs.nhs.uk/xi/vacancy/915718669  2021-09-20T23:59:59+0100   \n",
       "2  https://www.jobs.nhs.uk/xi/vacancy/915719754  2021-05-04T23:59:59+0100   \n",
       "\n",
       "  baseSalary.@type  ...                             hiringOrganization.url  \\\n",
       "0   MonetaryAmount  ...  https://www.jobs.nhs.uk/xi/agency_info/?agency...   \n",
       "1   MonetaryAmount  ...  https://www.jobs.nhs.uk/xi/agency_info/?agency...   \n",
       "2   MonetaryAmount  ...  https://www.jobs.nhs.uk/xi/agency_info/?agency...   \n",
       "\n",
       "  jobLocation.@type jobLocation.address.@type  \\\n",
       "0             Place             PostalAddress   \n",
       "1             Place             PostalAddress   \n",
       "2             Place             PostalAddress   \n",
       "\n",
       "  jobLocation.address.addressCountry jobLocation.address.addressLocality  \\\n",
       "0                                 GB        Stockton on the Forest, York   \n",
       "1                                 GB                          Birmingham   \n",
       "2                                 GB    Leicester/Leicestershire/Rutland   \n",
       "\n",
       "  jobLocation.address.postalCode jobLocation.geo.@type  \\\n",
       "0                       YO32 9UN        GeoCoordinates   \n",
       "1                         B7 4BN        GeoCoordinates   \n",
       "2                       LE16 7BN        GeoCoordinates   \n",
       "\n",
       "  jobLocation.geo.latitude jobLocation.geo.longitude  \\\n",
       "0                  53.9954                  -1.00281   \n",
       "1                  52.4873                  -1.88581   \n",
       "2                  52.4872                  -.931093   \n",
       "\n",
       "                             hiringOrganization.logo  \n",
       "0                                               None  \n",
       "1  https://www.jobs.nhs.uk/xi/db_image/logo/12565...  \n",
       "2                                               None  \n",
       "\n",
       "[3 rows x 28 columns]"
      ]
     },
     "execution_count": 5,
     "metadata": {},
     "output_type": "execute_result"
    }
   ],
   "source": [
    "# display head\n",
    "\n",
    "df.head(3)"
   ]
  },
  {
   "cell_type": "code",
   "execution_count": 6,
   "metadata": {},
   "outputs": [
    {
     "name": "stdout",
     "output_type": "stream",
     "text": [
      "<class 'pandas.core.frame.DataFrame'>\n",
      "RangeIndex: 4706 entries, 0 to 4705\n",
      "Data columns (total 28 columns):\n",
      " #   Column                               Non-Null Count  Dtype \n",
      "---  ------                               --------------  ----- \n",
      " 0   @context                             4706 non-null   object\n",
      " 1   @type                                4706 non-null   object\n",
      " 2   datePosted                           4706 non-null   object\n",
      " 3   description                          4706 non-null   object\n",
      " 4   employmentType                       4706 non-null   object\n",
      " 5   industry                             4706 non-null   object\n",
      " 6   title                                4706 non-null   object\n",
      " 7   url                                  4706 non-null   object\n",
      " 8   validThrough                         4706 non-null   object\n",
      " 9   baseSalary.@type                     4706 non-null   object\n",
      " 10  baseSalary.currency                  4706 non-null   object\n",
      " 11  baseSalary.value.@type               4706 non-null   object\n",
      " 12  baseSalary.value.maxValue            4285 non-null   object\n",
      " 13  baseSalary.value.minValue            4285 non-null   object\n",
      " 14  baseSalary.value.unitText            4706 non-null   object\n",
      " 15  baseSalary.value.value               4706 non-null   object\n",
      " 16  hiringOrganization.@type             4706 non-null   object\n",
      " 17  hiringOrganization.name              4706 non-null   object\n",
      " 18  hiringOrganization.url               4706 non-null   object\n",
      " 19  jobLocation.@type                    4706 non-null   object\n",
      " 20  jobLocation.address.@type            4706 non-null   object\n",
      " 21  jobLocation.address.addressCountry   4706 non-null   object\n",
      " 22  jobLocation.address.addressLocality  4706 non-null   object\n",
      " 23  jobLocation.address.postalCode       4706 non-null   object\n",
      " 24  jobLocation.geo.@type                4706 non-null   object\n",
      " 25  jobLocation.geo.latitude             4706 non-null   object\n",
      " 26  jobLocation.geo.longitude            4706 non-null   object\n",
      " 27  hiringOrganization.logo              2739 non-null   object\n",
      "dtypes: object(28)\n",
      "memory usage: 33.4 MB\n"
     ]
    }
   ],
   "source": [
    "# get fields, shape, and memory usage\n",
    "\n",
    "df.info(memory_usage='deep')"
   ]
  },
  {
   "cell_type": "markdown",
   "metadata": {},
   "source": [
    "---\n",
    "\n",
    "## Identify 'analyst' jobs for later reference"
   ]
  },
  {
   "cell_type": "code",
   "execution_count": 7,
   "metadata": {},
   "outputs": [
    {
     "data": {
      "text/html": [
       "<div>\n",
       "<style scoped>\n",
       "    .dataframe tbody tr th:only-of-type {\n",
       "        vertical-align: middle;\n",
       "    }\n",
       "\n",
       "    .dataframe tbody tr th {\n",
       "        vertical-align: top;\n",
       "    }\n",
       "\n",
       "    .dataframe thead th {\n",
       "        text-align: right;\n",
       "    }\n",
       "</style>\n",
       "<table border=\"1\" class=\"dataframe\">\n",
       "  <thead>\n",
       "    <tr style=\"text-align: right;\">\n",
       "      <th></th>\n",
       "      <th>title</th>\n",
       "      <th>url</th>\n",
       "    </tr>\n",
       "  </thead>\n",
       "  <tbody>\n",
       "    <tr>\n",
       "      <th>255</th>\n",
       "      <td>Transformation and Integration Manager - Progr...</td>\n",
       "      <td>https://www.jobs.nhs.uk/xi/vacancy/916192104</td>\n",
       "    </tr>\n",
       "    <tr>\n",
       "      <th>964</th>\n",
       "      <td>Band 7 EPR Configuration Analyst</td>\n",
       "      <td>https://www.jobs.nhs.uk/xi/vacancy/916230379</td>\n",
       "    </tr>\n",
       "    <tr>\n",
       "      <th>1277</th>\n",
       "      <td>Epidemiology and Information Analyst</td>\n",
       "      <td>https://www.jobs.nhs.uk/xi/vacancy/916235893</td>\n",
       "    </tr>\n",
       "    <tr>\n",
       "      <th>1415</th>\n",
       "      <td>Business Analyst</td>\n",
       "      <td>https://www.jobs.nhs.uk/xi/vacancy/916236874</td>\n",
       "    </tr>\n",
       "    <tr>\n",
       "      <th>1574</th>\n",
       "      <td>Senior Information Analyst</td>\n",
       "      <td>https://www.jobs.nhs.uk/xi/vacancy/916238178</td>\n",
       "    </tr>\n",
       "    <tr>\n",
       "      <th>1726</th>\n",
       "      <td>Skids Data Analyst - Project Manager</td>\n",
       "      <td>https://www.jobs.nhs.uk/xi/vacancy/916239321</td>\n",
       "    </tr>\n",
       "    <tr>\n",
       "      <th>1923</th>\n",
       "      <td>Workforce Planning Support Analyst</td>\n",
       "      <td>https://www.jobs.nhs.uk/xi/vacancy/916240652</td>\n",
       "    </tr>\n",
       "    <tr>\n",
       "      <th>1945</th>\n",
       "      <td>Principal Analyst</td>\n",
       "      <td>https://www.jobs.nhs.uk/xi/vacancy/916240832</td>\n",
       "    </tr>\n",
       "    <tr>\n",
       "      <th>2080</th>\n",
       "      <td>Information Analyst</td>\n",
       "      <td>https://www.jobs.nhs.uk/xi/vacancy/916241821</td>\n",
       "    </tr>\n",
       "    <tr>\n",
       "      <th>2104</th>\n",
       "      <td>Analyst Programmer</td>\n",
       "      <td>https://www.jobs.nhs.uk/xi/vacancy/916241979</td>\n",
       "    </tr>\n",
       "    <tr>\n",
       "      <th>2150</th>\n",
       "      <td>Digital Product Analyst</td>\n",
       "      <td>https://www.jobs.nhs.uk/xi/vacancy/916242278</td>\n",
       "    </tr>\n",
       "    <tr>\n",
       "      <th>2186</th>\n",
       "      <td>Clinical IT Systems Analyst</td>\n",
       "      <td>https://www.jobs.nhs.uk/xi/vacancy/916242499</td>\n",
       "    </tr>\n",
       "    <tr>\n",
       "      <th>2295</th>\n",
       "      <td>Analyst</td>\n",
       "      <td>https://www.jobs.nhs.uk/xi/vacancy/916243271</td>\n",
       "    </tr>\n",
       "    <tr>\n",
       "      <th>2318</th>\n",
       "      <td>Information and Performance Analyst</td>\n",
       "      <td>https://www.jobs.nhs.uk/xi/vacancy/916243439</td>\n",
       "    </tr>\n",
       "    <tr>\n",
       "      <th>2332</th>\n",
       "      <td>Analyst</td>\n",
       "      <td>https://www.jobs.nhs.uk/xi/vacancy/916243507</td>\n",
       "    </tr>\n",
       "    <tr>\n",
       "      <th>2382</th>\n",
       "      <td>Analyst</td>\n",
       "      <td>https://www.jobs.nhs.uk/xi/vacancy/916243825</td>\n",
       "    </tr>\n",
       "    <tr>\n",
       "      <th>2424</th>\n",
       "      <td>EPR Senior Configuration Analyst</td>\n",
       "      <td>https://www.jobs.nhs.uk/xi/vacancy/916244034</td>\n",
       "    </tr>\n",
       "    <tr>\n",
       "      <th>2533</th>\n",
       "      <td>Advanced Analyst – Operations</td>\n",
       "      <td>https://www.jobs.nhs.uk/xi/vacancy/916244684</td>\n",
       "    </tr>\n",
       "    <tr>\n",
       "      <th>2581</th>\n",
       "      <td>Analyst</td>\n",
       "      <td>https://www.jobs.nhs.uk/xi/vacancy/916245009</td>\n",
       "    </tr>\n",
       "    <tr>\n",
       "      <th>2677</th>\n",
       "      <td>Senior Data Analyst</td>\n",
       "      <td>https://www.jobs.nhs.uk/xi/vacancy/916245598</td>\n",
       "    </tr>\n",
       "    <tr>\n",
       "      <th>2687</th>\n",
       "      <td>Statistical Intelligence Analyst</td>\n",
       "      <td>https://www.jobs.nhs.uk/xi/vacancy/916245669</td>\n",
       "    </tr>\n",
       "    <tr>\n",
       "      <th>2746</th>\n",
       "      <td>Senior Service Desk Analyst</td>\n",
       "      <td>https://www.jobs.nhs.uk/xi/vacancy/916246008</td>\n",
       "    </tr>\n",
       "    <tr>\n",
       "      <th>2838</th>\n",
       "      <td>EPR Application Analyst - Labs (Beaker)</td>\n",
       "      <td>https://www.jobs.nhs.uk/xi/vacancy/916246593</td>\n",
       "    </tr>\n",
       "    <tr>\n",
       "      <th>2885</th>\n",
       "      <td>Service Desk Analyst</td>\n",
       "      <td>https://www.jobs.nhs.uk/xi/vacancy/916246889</td>\n",
       "    </tr>\n",
       "    <tr>\n",
       "      <th>2904</th>\n",
       "      <td>Public Health Intelligence Analyst</td>\n",
       "      <td>https://www.jobs.nhs.uk/xi/vacancy/916246957</td>\n",
       "    </tr>\n",
       "    <tr>\n",
       "      <th>2911</th>\n",
       "      <td>Public Health Intelligence Analyst</td>\n",
       "      <td>https://www.jobs.nhs.uk/xi/vacancy/916246989</td>\n",
       "    </tr>\n",
       "    <tr>\n",
       "      <th>2939</th>\n",
       "      <td>Senior Safety Siren &amp;amp; UEC Analyst</td>\n",
       "      <td>https://www.jobs.nhs.uk/xi/vacancy/916247132</td>\n",
       "    </tr>\n",
       "    <tr>\n",
       "      <th>2947</th>\n",
       "      <td>GIRFT Principal Data Analyst x 3</td>\n",
       "      <td>https://www.jobs.nhs.uk/xi/vacancy/916247194</td>\n",
       "    </tr>\n",
       "    <tr>\n",
       "      <th>3099</th>\n",
       "      <td>Analyst</td>\n",
       "      <td>https://www.jobs.nhs.uk/xi/vacancy/916248017</td>\n",
       "    </tr>\n",
       "    <tr>\n",
       "      <th>3127</th>\n",
       "      <td>Public Health Intelligence Analyst</td>\n",
       "      <td>https://www.jobs.nhs.uk/xi/vacancy/916248161</td>\n",
       "    </tr>\n",
       "    <tr>\n",
       "      <th>3268</th>\n",
       "      <td>Business Intelligence Analyst</td>\n",
       "      <td>https://www.jobs.nhs.uk/xi/vacancy/916248873</td>\n",
       "    </tr>\n",
       "    <tr>\n",
       "      <th>3343</th>\n",
       "      <td>Band 6 Automation Analyst</td>\n",
       "      <td>https://www.jobs.nhs.uk/xi/vacancy/916249334</td>\n",
       "    </tr>\n",
       "    <tr>\n",
       "      <th>4138</th>\n",
       "      <td>Service Desk Analyst Apprenticeship</td>\n",
       "      <td>https://www.jobs.nhs.uk/xi/vacancy/916253258</td>\n",
       "    </tr>\n",
       "    <tr>\n",
       "      <th>4230</th>\n",
       "      <td>Senior Strategic Analyst - business intelligence</td>\n",
       "      <td>https://www.jobs.nhs.uk/xi/vacancy/916253776</td>\n",
       "    </tr>\n",
       "    <tr>\n",
       "      <th>4258</th>\n",
       "      <td>Senior Information Analyst - Quality &amp;amp; Ser...</td>\n",
       "      <td>https://www.jobs.nhs.uk/xi/vacancy/916253923</td>\n",
       "    </tr>\n",
       "  </tbody>\n",
       "</table>\n",
       "</div>"
      ],
      "text/plain": [
       "                                                  title  \\\n",
       "255   Transformation and Integration Manager - Progr...   \n",
       "964                    Band 7 EPR Configuration Analyst   \n",
       "1277               Epidemiology and Information Analyst   \n",
       "1415                                   Business Analyst   \n",
       "1574                         Senior Information Analyst   \n",
       "1726               Skids Data Analyst - Project Manager   \n",
       "1923                 Workforce Planning Support Analyst   \n",
       "1945                                  Principal Analyst   \n",
       "2080                                Information Analyst   \n",
       "2104                                 Analyst Programmer   \n",
       "2150                            Digital Product Analyst   \n",
       "2186                        Clinical IT Systems Analyst   \n",
       "2295                                            Analyst   \n",
       "2318                Information and Performance Analyst   \n",
       "2332                                            Analyst   \n",
       "2382                                            Analyst   \n",
       "2424                   EPR Senior Configuration Analyst   \n",
       "2533                      Advanced Analyst – Operations   \n",
       "2581                                            Analyst   \n",
       "2677                                Senior Data Analyst   \n",
       "2687                   Statistical Intelligence Analyst   \n",
       "2746                        Senior Service Desk Analyst   \n",
       "2838            EPR Application Analyst - Labs (Beaker)   \n",
       "2885                               Service Desk Analyst   \n",
       "2904                 Public Health Intelligence Analyst   \n",
       "2911                 Public Health Intelligence Analyst   \n",
       "2939              Senior Safety Siren &amp; UEC Analyst   \n",
       "2947                   GIRFT Principal Data Analyst x 3   \n",
       "3099                                            Analyst   \n",
       "3127                 Public Health Intelligence Analyst   \n",
       "3268                      Business Intelligence Analyst   \n",
       "3343                          Band 6 Automation Analyst   \n",
       "4138                Service Desk Analyst Apprenticeship   \n",
       "4230   Senior Strategic Analyst - business intelligence   \n",
       "4258  Senior Information Analyst - Quality &amp; Ser...   \n",
       "\n",
       "                                               url  \n",
       "255   https://www.jobs.nhs.uk/xi/vacancy/916192104  \n",
       "964   https://www.jobs.nhs.uk/xi/vacancy/916230379  \n",
       "1277  https://www.jobs.nhs.uk/xi/vacancy/916235893  \n",
       "1415  https://www.jobs.nhs.uk/xi/vacancy/916236874  \n",
       "1574  https://www.jobs.nhs.uk/xi/vacancy/916238178  \n",
       "1726  https://www.jobs.nhs.uk/xi/vacancy/916239321  \n",
       "1923  https://www.jobs.nhs.uk/xi/vacancy/916240652  \n",
       "1945  https://www.jobs.nhs.uk/xi/vacancy/916240832  \n",
       "2080  https://www.jobs.nhs.uk/xi/vacancy/916241821  \n",
       "2104  https://www.jobs.nhs.uk/xi/vacancy/916241979  \n",
       "2150  https://www.jobs.nhs.uk/xi/vacancy/916242278  \n",
       "2186  https://www.jobs.nhs.uk/xi/vacancy/916242499  \n",
       "2295  https://www.jobs.nhs.uk/xi/vacancy/916243271  \n",
       "2318  https://www.jobs.nhs.uk/xi/vacancy/916243439  \n",
       "2332  https://www.jobs.nhs.uk/xi/vacancy/916243507  \n",
       "2382  https://www.jobs.nhs.uk/xi/vacancy/916243825  \n",
       "2424  https://www.jobs.nhs.uk/xi/vacancy/916244034  \n",
       "2533  https://www.jobs.nhs.uk/xi/vacancy/916244684  \n",
       "2581  https://www.jobs.nhs.uk/xi/vacancy/916245009  \n",
       "2677  https://www.jobs.nhs.uk/xi/vacancy/916245598  \n",
       "2687  https://www.jobs.nhs.uk/xi/vacancy/916245669  \n",
       "2746  https://www.jobs.nhs.uk/xi/vacancy/916246008  \n",
       "2838  https://www.jobs.nhs.uk/xi/vacancy/916246593  \n",
       "2885  https://www.jobs.nhs.uk/xi/vacancy/916246889  \n",
       "2904  https://www.jobs.nhs.uk/xi/vacancy/916246957  \n",
       "2911  https://www.jobs.nhs.uk/xi/vacancy/916246989  \n",
       "2939  https://www.jobs.nhs.uk/xi/vacancy/916247132  \n",
       "2947  https://www.jobs.nhs.uk/xi/vacancy/916247194  \n",
       "3099  https://www.jobs.nhs.uk/xi/vacancy/916248017  \n",
       "3127  https://www.jobs.nhs.uk/xi/vacancy/916248161  \n",
       "3268  https://www.jobs.nhs.uk/xi/vacancy/916248873  \n",
       "3343  https://www.jobs.nhs.uk/xi/vacancy/916249334  \n",
       "4138  https://www.jobs.nhs.uk/xi/vacancy/916253258  \n",
       "4230  https://www.jobs.nhs.uk/xi/vacancy/916253776  \n",
       "4258  https://www.jobs.nhs.uk/xi/vacancy/916253923  "
      ]
     },
     "execution_count": 7,
     "metadata": {},
     "output_type": "execute_result"
    }
   ],
   "source": [
    "mask_analyst = df['title'].str.contains('Analyst').values\n",
    "\n",
    "df[['title', 'url']][mask_analyst]"
   ]
  },
  {
   "cell_type": "markdown",
   "metadata": {},
   "source": [
    "---\n",
    "\n",
    "## Retain only description, view some examples"
   ]
  },
  {
   "cell_type": "code",
   "execution_count": 8,
   "metadata": {},
   "outputs": [],
   "source": [
    "ser_desc = df['description'] \n",
    "ser_desc.index = df['url']"
   ]
  },
  {
   "cell_type": "code",
   "execution_count": 9,
   "metadata": {},
   "outputs": [
    {
     "data": {
      "text/plain": [
       "'&lt;p&gt;Stockton Hall is a highly specialist hospital where patients requiring a medium secure care setting can maximise value from therapeutic interventions. Our services have produced excellent recovery results for patients and they are able to progress to low secure or locked rehabilitation if possible.&lt;/p&gt;\\n&lt;p&gt;The facility is split across seven wards as follows:&lt;/p&gt;\\n&lt;p&gt;16 bedded female ward - Mental Health and Personality Disorder&lt;br /&gt; 16 bedded male ward - Personality Disorder&lt;br /&gt; 8 bedded elderly male ward - for those with a settled in presentation in need of rehabilitation for mental illness and/or personality disorders&lt;br /&gt; Two 24 bedded male wards for mental health focus&lt;/p&gt;\\n&lt;p&gt;The role:&lt;/p&gt;\\n&lt;p&gt;Here at Stockton Hall Hospital in York, we have a vacancy for Staff Nurse – Grade 4.&lt;/p&gt;\\n&lt;p&gt;Job Purpose:&lt;/p&gt;\\n&lt;ul&gt;\\n&lt;li&gt;To provide high profile leadership on a shift basis&lt;/li&gt;\\n&lt;li&gt;To promote and safeguard the wellbeing and interests of all patients, employees and visitors&lt;/li&gt;\\n&lt;li&gt;To ensure that all standards of patient care are maintained at all times within the parameters of operational policies and governing legislation&lt;/li&gt;\\n&lt;li&gt;To promote a supportive culture based on open and honest communication and reflective practice&lt;/li&gt;\\n&lt;/ul&gt;\\n&lt;p&gt;Main duties of the role include:&lt;/p&gt;\\n&lt;ul&gt;\\n&lt;li&gt;To accept primary nurse responsibility for an allocated caseload of patients&lt;/li&gt;\\n&lt;li&gt;To accept CPA responsibility for an allocated caseload of patients&lt;/li&gt;\\n&lt;li&gt;To plan and implement nursing care of individual patients paying particular attention to areas of nursing risk management&lt;/li&gt;\\n&lt;li&gt;To act as identified leader of the nursing shift, accepting responsibility for all nursing operations whilst on duty&lt;/li&gt;\\n&lt;li&gt;To ensure nursing practice remains within the parameters of the clinical strategy&lt;/li&gt;\\n&lt;/ul&gt;\\n&lt;p&gt;To be successful as Staff Nurse 4, you’ll need:&lt;/p&gt;\\n&lt;ul&gt;\\n&lt;li&gt;Registered Nurse Qualification (RMN or RNLD) with a Valid NMC PIN&lt;/li&gt;\\n&lt;li&gt;ENB 998 or Mentorship in Practice or equivalent.&lt;/li&gt;\\n&lt;li&gt;To be a team player&lt;/li&gt;\\n&lt;li&gt;To be self-aware, seeking support and advice when required&lt;/li&gt;\\n&lt;li&gt;Good listening and rapport building ability&lt;/li&gt;\\n&lt;li&gt;To be able to organize and prioritise your time&lt;/li&gt;\\n&lt;/ul&gt;\\n&lt;p&gt;In return for your expertise and hard work, we offer a wide range of benefits including:&lt;/p&gt;\\n&lt;ul&gt;\\n&lt;li&gt;Competitive salary&lt;/li&gt;\\n&lt;li&gt;25 days’ annual leave plus 8 bank holidays increasing to 30 days plus bank holidays with length of service&lt;/li&gt;\\n&lt;li&gt;Extra Service Annual leave awards&lt;/li&gt;\\n&lt;li&gt;Career development – progress across the Staff Nurse grading is via a distinct career path&lt;/li&gt;\\n&lt;li&gt;An employee assistance programme&lt;/li&gt;\\n&lt;li&gt;Free meals/refreshments when on duty&lt;/li&gt;\\n&lt;li&gt;Free car parking&lt;/li&gt;\\n&lt;li&gt;Flexible Benefits Packages&lt;/li&gt;\\n&lt;li&gt;NMC Payment in full&lt;/li&gt;\\n&lt;li&gt;Sign on bonus&lt;/li&gt;\\n&lt;li&gt;£1,500 e-voucher code for The Priory Benefits portal to be redeemed on various items including discounted shopping, red letter days, gym membership etc&lt;/li&gt;\\n&lt;li&gt;Relocation support (including payment for accommodation or moving costs), paid as a lump sum\\n&lt;ul&gt;\\n&lt;li&gt;Moving less than 100 miles up to £2,000&lt;/li&gt;\\n&lt;li&gt;If more than 100 miles up to £4,000&lt;/li&gt;\\n&lt;li&gt;To be repaid if individual does not complete probation &amp; leaves&lt;/li&gt;\\n&lt;/ul&gt;\\n&lt;/li&gt;\\n&lt;li&gt;Payment into the pension scheme&lt;/li&gt;\\n&lt;li&gt;CPD top up&lt;/li&gt;\\n&lt;li&gt;Donation to a charity of their choice&lt;/li&gt;\\n&lt;/ul&gt;\\n&lt;p&gt;Division DBS info&lt;/p&gt;\\n&lt;p&gt;&lt;strong&gt;About us&lt;/strong&gt;&lt;/p&gt;\\n&lt;p&gt;From education to hospitals, care homes and secure facilities, the Priory Group of Companies offers individually tailored, multidisciplinary treatment programmes for those with complex educational needs or requiring acute, long-term and respite mental healthcare.&lt;/p&gt;\\n&lt;p&gt;The integrated strength of each service provides a seamless transition for the individual as they progress between higher and lower dependency care and across services. This unique approach ensures that every individual has the opportunity to achieve the best possible outcomes and quality of life with the Priory Group.&lt;/p&gt;\\n&lt;p&gt;As 85% of our services are publicly funded and delivered in partnership with commissioners, our teams work with commissioning bodies across the country to provide transparent pricing models and evidence-based care programmes.&lt;/p&gt;\\n&lt;p&gt;&lt;strong&gt;Disclosure&lt;/strong&gt;&lt;/p&gt;\\n&lt;p&gt;All roles will be subject to a successful disclosure at an appropriate level from the Disclosure and Barring Service (DBS), Access NI or Disclosure Scotland. We are an equal opportunities employer.&lt;/p&gt;'"
      ]
     },
     "execution_count": 9,
     "metadata": {},
     "output_type": "execute_result"
    }
   ],
   "source": [
    "ser_desc[0]"
   ]
  },
  {
   "cell_type": "code",
   "execution_count": 10,
   "metadata": {},
   "outputs": [
    {
     "data": {
      "text/plain": [
       "'&lt;p&gt;Are you a Registered Nurse looking for flexibility, a good rate of pay and the opportunity to make a difference to people’s lives?&lt;/p&gt;\\n&lt;p&gt;If you are an enthusiastic, caring and compassionate individual looking to work flexibly in a supportive environment then we’d love to hear from you!&lt;/p&gt;\\n&lt;p&gt;&lt;strong&gt;EPUT are recruiting Nurses to work on our Trust bank across Essex covering a large geographical region.&lt;/strong&gt;&lt;/p&gt;\\n&lt;p&gt;&lt;strong&gt;At EPUT, we put our people’s talents at the heart of improving lives – come and join us, together we can change lives. &lt;/strong&gt;&lt;/p&gt;\\n&lt;p&gt;&lt;strong&gt;We are looking for Nurses who will embrace of values of being compassionate, empowering and open. If this sounds like you, apply now. &lt;/strong&gt;&lt;/p&gt;\\n&lt;p&gt;Furthermore, we are seeking individuals that are able to work flexibly across a variety of shift patterns to suit your work life balance.&lt;/p&gt;\\n&lt;p&gt;In return we are able to offer the following:&lt;/p&gt;\\n&lt;ul&gt;\\n&lt;li&gt;Earn holiday pay in the form of a 12.5% uplift on your hourly rate&lt;/li&gt;\\n&lt;li&gt;Access to a 24 hour self-booking system and online payslips&lt;/li&gt;\\n&lt;li&gt;Receive weekly updates on all permanent vacancies within the Trust&lt;/li&gt;\\n&lt;li&gt;Opportunity to gain experience across a wide range of clinical areas&lt;/li&gt;\\n&lt;li&gt;Supervision and appraisal opportunities&lt;/li&gt;\\n&lt;li&gt;Paid for face to face mandatory training and up to 2 hours for online mandatory training&lt;/li&gt;\\n&lt;li&gt;NHS discounts for staff&lt;/li&gt;\\n&lt;li&gt;Competitive rates of pay including enhanced rates for unsocial hours (listed below)&lt;/li&gt;\\n&lt;/ul&gt;\\n&lt;p&gt;&lt;strong&gt;Hourly Rates (dependent on experience):&lt;/strong&gt;&lt;/p&gt;\\n&lt;p&gt;&lt;strong&gt;*this is inclusive of the 12.5% uplift*&lt;/strong&gt;&lt;/p&gt;\\n&lt;p&gt;&lt;strong&gt;Day: £14.37 to £17.66 per hour&lt;/strong&gt;&lt;/p&gt;\\n&lt;p&gt;&lt;strong&gt;Night/Saturday: £18.68 to £22.96 per hour&lt;/strong&gt;&lt;/p&gt;\\n&lt;p&gt;&lt;strong&gt;Sunday/Bank Holiday: £22.99 to £28.26 per hour&lt;/strong&gt;&lt;/p&gt;\\n&lt;p&gt;If your application meets the criteria of the role, you will be contacted to complete a questionnaire and will then be called to discuss this further.&lt;/p&gt;\\n&lt;p&gt;For further details / informal visits contact:&lt;/p&gt;\\n&lt;p&gt;NameRecruitment TeamTelephone number01375 364 513&lt;/p&gt;'"
      ]
     },
     "execution_count": 10,
     "metadata": {},
     "output_type": "execute_result"
    }
   ],
   "source": [
    "ser_desc[100]"
   ]
  },
  {
   "cell_type": "code",
   "execution_count": 11,
   "metadata": {},
   "outputs": [
    {
     "data": {
      "text/plain": [
       "url\n",
       "https://www.jobs.nhs.uk/xi/vacancy/916134096    &lt;p&gt;Are you a Registered Nurse looking fo...\n",
       "Name: description, dtype: object"
      ]
     },
     "execution_count": 11,
     "metadata": {},
     "output_type": "execute_result"
    }
   ],
   "source": [
    "ser_desc.iloc[100:101]"
   ]
  },
  {
   "cell_type": "markdown",
   "metadata": {},
   "source": [
    "---\n",
    "\n",
    "## Define normalization sequence"
   ]
  },
  {
   "cell_type": "markdown",
   "metadata": {},
   "source": [
    "We can see that there are HTML entities scattered throughout the text.\n",
    "\n",
    "Preprocessing pipeline:\n",
    "1. Strip HTML entities and tags.\n",
    "2. Strip newline characters.\n",
    "3. Cast to lowercase.\n",
    "4. Stem. \n",
    "5. Stop word removal. "
   ]
  },
  {
   "cell_type": "code",
   "execution_count": 12,
   "metadata": {},
   "outputs": [],
   "source": [
    "def preprocess(ser_desc: pd.Series):\n",
    "    ser_desc = ser_desc.copy()\n",
    "    ser_desc = ser_desc.apply(lambda value: html.unescape(value)) # replace entities\n",
    "    ser_desc = ser_desc.str.replace(pat='<\\/?[^>]*>', repl='') # strip html tags\n",
    "    ser_desc = ser_desc.str.replace(pat='\\\\n', repl=' ') # strip newline chars\n",
    "    ser_desc = ser_desc.str.lower()\n",
    "    ser_desc = ser_desc.apply(lambda value: nltk.word_tokenize(value)) # splits string into list of tokens\n",
    "    ser_desc = ser_desc.apply(lambda value: nltk.Text(value))\n",
    "    #porter = nltk.PorterStemmer()\n",
    "    #ser_desc = ser_desc.apply(lambda lst: [porter.stem(t) for t in lst]) \n",
    "    df_desc = ser_desc.to_frame()\n",
    "    df_desc.columns = ['text']\n",
    "    return df_desc"
   ]
  },
  {
   "cell_type": "code",
   "execution_count": 13,
   "metadata": {},
   "outputs": [],
   "source": [
    "def get_keyword_presence(df_text: pd.DataFrame):\n",
    "    ''' Creates a data frame containing counts of keywords.\n",
    "    ''' \n",
    "    keywords = sorted(['analyst', 'analysis', 'analytical', 'data', 'prediction', 'predictive',\n",
    "                       'sql', 'python', 'r', 'digital', 'software', 'automation', 'automate',\n",
    "                       'maths', 'mathematics', 'physics', 'etl', 'informatics', 'bioinformatics',\n",
    "                       'statistics', 'computing', 'computer science', 'excel', 'tableau', 'machine',\n",
    "                       'programming', 'receptionist'])\n",
    "    df_out = df_text.apply(axis=1, \n",
    "                           func=lambda rec: [float(rec['text'].count(kw) > 0) for kw in keywords],\n",
    "                           result_type='expand')\n",
    "    df_out.columns = keywords\n",
    "    return df_out"
   ]
  },
  {
   "cell_type": "code",
   "execution_count": 14,
   "metadata": {},
   "outputs": [],
   "source": [
    "# generate text, keyword presence data frames\n",
    "\n",
    "df_text = ser_desc.pipe(preprocess) # field 'text' contains nltk Text objs\n",
    "df_kw = get_keyword_presence(df_text)"
   ]
  },
  {
   "cell_type": "code",
   "execution_count": 34,
   "metadata": {},
   "outputs": [
    {
     "data": {
      "text/plain": [
       "\"['stockton', 'hall', 'is', 'a', 'highly', 'specialist', 'hospital', 'where', 'patients', 'requiring', 'a', 'medium', 'secure', 'care', 'setting', 'can', 'maximise', 'value', 'from', 'therapeutic', 'interventions', '.', 'our', 'services', 'have', 'produced', 'excellent', 'recovery', 'results', 'for', 'patients', 'and', 'they', 'are', 'able', 'to', 'progress', 'to', 'low', 'secure', 'or', 'locked', 'rehabilitation', 'if', 'possible', '.', 'the', 'facility', 'is', 'split', 'across', 'seven', 'wards', 'as', 'follows', ':', '16', 'bedded', 'female', 'ward', '-', 'mental', 'health', 'and', 'personality', 'disorder', '16', 'bedded', 'male', 'ward', '-', 'personality', 'disorder', '8', 'bedded', 'elderly', 'male', 'ward', '-', 'for', 'those', 'with', 'a', 'settled', 'in', 'presentation', 'in', 'need', 'of', 'rehabilitation', 'for', 'mental', 'illness', 'and/or', 'personality', 'disorders', 'two', '24', 'bedded', 'male', 'wards', 'for', 'mental', 'health', 'focus', 'the', 'role', ':', 'here', 'at', 'stockton', 'hall', 'hospital', 'in', 'york', ',', 'we', 'have', 'a', 'vacancy', 'for', 'staff', 'nurse', '–', 'grade', '4.', 'job', 'purpose', ':', 'to', 'provide', 'high', 'profile', 'leadership', 'on', 'a', 'shift', 'basis', 'to', 'promote', 'and', 'safeguard', 'the', 'wellbeing', 'and', 'interests', 'of', 'all', 'patients', ',', 'employees', 'and', 'visitors', 'to', 'ensure', 'that', 'all', 'standards', 'of', 'patient', 'care', 'are', 'maintained', 'at', 'all', 'times', 'within', 'the', 'parameters', 'of', 'operational', 'policies', 'and', 'governing', 'legislation', 'to', 'promote', 'a', 'supportive', 'culture', 'based', 'on', 'open', 'and', 'honest', 'communication', 'and', 'reflective', 'practice', 'main', 'duties', 'of', 'the', 'role', 'include', ':', 'to', 'accept', 'primary', 'nurse', 'responsibility', 'for', 'an', 'allocated', 'caseload', 'of', 'patients', 'to', 'accept', 'cpa', 'responsibility', 'for', 'an', 'allocated', 'caseload', 'of', 'patients', 'to', 'plan', 'and', 'implement', 'nursing', 'care', 'of', 'individual', 'patients', 'paying', 'particular', 'attention', 'to', 'areas', 'of', 'nursing', 'risk', 'management', 'to', 'act', 'as', 'identified', 'leader', 'of', 'the', 'nursing', 'shift', ',', 'accepting', 'responsibility', 'for', 'all', 'nursing', 'operations', 'whilst', 'on', 'duty', 'to', 'ensure', 'nursing', 'practice', 'remains', 'within', 'the', 'parameters', 'of', 'the', 'clinical', 'strategy', 'to', 'be', 'successful', 'as', 'staff', 'nurse', '4', ',', 'you', '’', 'll', 'need', ':', 'registered', 'nurse', 'qualification', '(', 'rmn', 'or', 'rnld', ')', 'with', 'a', 'valid', 'nmc', 'pin', 'enb', '998', 'or', 'mentorship', 'in', 'practice', 'or', 'equivalent', '.', 'to', 'be', 'a', 'team', 'player', 'to', 'be', 'self-aware', ',', 'seeking', 'support', 'and', 'advice', 'when', 'required', 'good', 'listening', 'and', 'rapport', 'building', 'ability', 'to', 'be', 'able', 'to', 'organize', 'and', 'prioritise', 'your', 'time', 'in', 'return', 'for', 'your', 'expertise', 'and', 'hard', 'work', ',', 'we', 'offer', 'a', 'wide', 'range', 'of', 'benefits', 'including', ':', 'competitive', 'salary', '25', 'days', '’', 'annual', 'leave', 'plus', '8', 'bank', 'holidays', 'increasing', 'to', '30', 'days', 'plus', 'bank', 'holidays', 'with', 'length', 'of', 'service', 'extra', 'service', 'annual', 'leave', 'awards', 'career', 'development', '–', 'progress', 'across', 'the', 'staff', 'nurse', 'grading', 'is', 'via', 'a', 'distinct', 'career', 'path', 'an', 'employee', 'assistance', 'programme', 'free', 'meals/refreshments', 'when', 'on', 'duty', 'free', 'car', 'parking', 'flexible', 'benefits', 'packages', 'nmc', 'payment', 'in', 'full', 'sign', 'on', 'bonus', '£1,500', 'e-voucher', 'code', 'for', 'the', 'priory', 'benefits', 'portal', 'to', 'be', 'redeemed', 'on', 'various', 'items', 'including', 'discounted', 'shopping', ',', 'red', 'letter', 'days', ',', 'gym', 'membership', 'etc', 'relocation', 'support', '(', 'including', 'payment', 'for', 'accommodation', 'or', 'moving', 'costs', ')', ',', 'paid', 'as', 'a', 'lump', 'sum', 'moving', 'less', 'than', '100', 'miles', 'up', 'to', '£2,000', 'if', 'more', 'than', '100', 'miles', 'up', 'to', '£4,000', 'to', 'be', 'repaid', 'if', 'individual', 'does', 'not', 'complete', 'probation', '&', 'leaves', 'payment', 'into', 'the', 'pension', 'scheme', 'cpd', 'top', 'up', 'donation', 'to', 'a', 'charity', 'of', 'their', 'choice', 'division', 'dbs', 'info', 'about', 'us', 'from', 'education', 'to', 'hospitals', ',', 'care', 'homes', 'and', 'secure', 'facilities', ',', 'the', 'priory', 'group', 'of', 'companies', 'offers', 'individually', 'tailored', ',', 'multidisciplinary', 'treatment', 'programmes', 'for', 'those', 'with', 'complex', 'educational', 'needs', 'or', 'requiring', 'acute', ',', 'long-term', 'and', 'respite', 'mental', 'healthcare', '.', 'the', 'integrated', 'strength', 'of', 'each', 'service', 'provides', 'a', 'seamless', 'transition', 'for', 'the', 'individual', 'as', 'they', 'progress', 'between', 'higher', 'and', 'lower', 'dependency', 'care', 'and', 'across', 'services', '.', 'this', 'unique', 'approach', 'ensures', 'that', 'every', 'individual', 'has', 'the', 'opportunity', 'to', 'achieve', 'the', 'best', 'possible', 'outcomes', 'and', 'quality', 'of', 'life', 'with', 'the', 'priory', 'group', '.', 'as', '85', '%', 'of', 'our', 'services', 'are', 'publicly', 'funded', 'and', 'delivered', 'in', 'partnership', 'with', 'commissioners', ',', 'our', 'teams', 'work', 'with', 'commissioning', 'bodies', 'across', 'the', 'country', 'to', 'provide', 'transparent', 'pricing', 'models', 'and', 'evidence-based', 'care', 'programmes', '.', 'disclosure', 'all', 'roles', 'will', 'be', 'subject', 'to', 'a', 'successful', 'disclosure', 'at', 'an', 'appropriate', 'level', 'from', 'the', 'disclosure', 'and', 'barring', 'service', '(', 'dbs', ')', ',', 'access', 'ni', 'or', 'disclosure', 'scotland', '.', 'we', 'are', 'an', 'equal', 'opportunities', 'employer', '.']\""
      ]
     },
     "execution_count": 34,
     "metadata": {},
     "output_type": "execute_result"
    }
   ],
   "source": [
    "\"['\" + \"', '\".join(list(df_text['text'][0])) + \"']\""
   ]
  },
  {
   "cell_type": "markdown",
   "metadata": {},
   "source": [
    "---\n",
    "\n",
    "## Visualize vacancy description statistics"
   ]
  },
  {
   "cell_type": "code",
   "execution_count": 36,
   "metadata": {},
   "outputs": [
    {
     "data": {
      "image/png": "[encoded data removed]",
      "text/plain": [
       "<Figure size 720x720 with 1 Axes>"
      ]
     },
     "metadata": {},
     "output_type": "display_data"
    }
   ],
   "source": [
    "# plot bar chart of % of vacancy descriptions featuring keyword\n",
    "\n",
    "def plot_keyword_pc(df: pd.DataFrame):\n",
    "    ser_pc = df.mean(axis=0.)*100 # percentage of vacancies featuring keyword\n",
    "    ser_pc = ser_pc.sort_values()\n",
    "    f, ax = plt.subplots(figsize=(10, 10))\n",
    "    sns.barplot(y=ser_pc.index, x=ser_pc.values, orient='h')\n",
    "    ax.set(xlabel='% of {} vacancies featuring keyword'.format(df.shape[0]),\n",
    "           ylabel='Keyword',\n",
    "           title='% of vacancy descriptions featuring keyword')\n",
    "    f.savefig('../data/img/001.png', dpi=1000)\n",
    "\n",
    "plot_keyword_pc(df_kw)"
   ]
  },
  {
   "cell_type": "code",
   "execution_count": 37,
   "metadata": {},
   "outputs": [
    {
     "data": {
      "image/png": "[encoded data removed]",
      "text/plain": [
       "<Figure size 792x648 with 2 Axes>"
      ]
     },
     "metadata": {},
     "output_type": "display_data"
    }
   ],
   "source": [
    "# plot heatmap of keyword correlations\n",
    "\n",
    "def plot_corr_heatmap(df: pd.DataFrame):\n",
    "    c = df.corr()\n",
    "    mask = np.triu(np.ones_like(c, dtype=bool))\n",
    "    f, ax = plt.subplots(figsize=(11, 9))\n",
    "    cmap = sns.diverging_palette(230, 20, as_cmap=True)\n",
    "    sns.heatmap(c, mask=mask, cmap=cmap, vmax=.3, center=0,\n",
    "                square=True, linewidths=.5, cbar_kws={\"shrink\": .5})\n",
    "    ax.set_title('Keyword appearance correlations across all vacancies')\n",
    "    f.savefig('../data/img/002.png', dpi=1000)\n",
    "    \n",
    "plot_corr_heatmap(df_kw)"
   ]
  },
  {
   "cell_type": "code",
   "execution_count": 17,
   "metadata": {},
   "outputs": [
    {
     "ename": "KeyboardInterrupt",
     "evalue": "",
     "output_type": "error",
     "traceback": [
      "\u001b[1;31m---------------------------------------------------------------------------\u001b[0m",
      "\u001b[1;31mKeyboardInterrupt\u001b[0m                         Traceback (most recent call last)",
      "\u001b[1;32m<ipython-input-17-a0fe4d9711d0>\u001b[0m in \u001b[0;36m<module>\u001b[1;34m\u001b[0m\n\u001b[0;32m     12\u001b[0m     \u001b[1;32mreturn\u001b[0m\u001b[1;33m(\u001b[0m\u001b[0mdf_jac\u001b[0m\u001b[1;33m)\u001b[0m\u001b[1;33m\u001b[0m\u001b[1;33m\u001b[0m\u001b[0m\n\u001b[0;32m     13\u001b[0m \u001b[1;33m\u001b[0m\u001b[0m\n\u001b[1;32m---> 14\u001b[1;33m \u001b[0mdf_jac\u001b[0m \u001b[1;33m=\u001b[0m \u001b[0mget_jacard_index_matrix\u001b[0m\u001b[1;33m(\u001b[0m\u001b[0mdf_text\u001b[0m\u001b[1;33m)\u001b[0m\u001b[1;33m\u001b[0m\u001b[1;33m\u001b[0m\u001b[0m\n\u001b[0m",
      "\u001b[1;32m<ipython-input-17-a0fe4d9711d0>\u001b[0m in \u001b[0;36mget_jacard_index_matrix\u001b[1;34m(df_text)\u001b[0m\n\u001b[0;32m      8\u001b[0m     \u001b[0mn\u001b[0m \u001b[1;33m=\u001b[0m \u001b[0mdf_text\u001b[0m\u001b[1;33m.\u001b[0m\u001b[0mshape\u001b[0m\u001b[1;33m[\u001b[0m\u001b[1;36m0\u001b[0m\u001b[1;33m]\u001b[0m\u001b[1;33m\u001b[0m\u001b[1;33m\u001b[0m\u001b[0m\n\u001b[0;32m      9\u001b[0m     \u001b[1;32mfor\u001b[0m \u001b[0mi\u001b[0m\u001b[1;33m,\u001b[0m \u001b[0mj\u001b[0m \u001b[1;32min\u001b[0m \u001b[0mcombinations_with_replacement\u001b[0m\u001b[1;33m(\u001b[0m\u001b[0mrange\u001b[0m\u001b[1;33m(\u001b[0m\u001b[0mn\u001b[0m\u001b[1;33m)\u001b[0m\u001b[1;33m,\u001b[0m \u001b[1;36m2\u001b[0m\u001b[1;33m)\u001b[0m\u001b[1;33m:\u001b[0m\u001b[1;33m\u001b[0m\u001b[1;33m\u001b[0m\u001b[0m\n\u001b[1;32m---> 10\u001b[1;33m         df_jac.iloc[i, j] = jacard_index(df_text.iloc[i, 0],\n\u001b[0m\u001b[0;32m     11\u001b[0m                                          df_text.iloc[j, 0])\n\u001b[0;32m     12\u001b[0m     \u001b[1;32mreturn\u001b[0m\u001b[1;33m(\u001b[0m\u001b[0mdf_jac\u001b[0m\u001b[1;33m)\u001b[0m\u001b[1;33m\u001b[0m\u001b[1;33m\u001b[0m\u001b[0m\n",
      "\u001b[1;32m~\\Anaconda3\\envs\\wmchack\\lib\\site-packages\\pandas\\core\\indexing.py\u001b[0m in \u001b[0;36m__getitem__\u001b[1;34m(self, key)\u001b[0m\n\u001b[0;32m    867\u001b[0m             \u001b[1;32mif\u001b[0m \u001b[0mself\u001b[0m\u001b[1;33m.\u001b[0m\u001b[0m_is_scalar_access\u001b[0m\u001b[1;33m(\u001b[0m\u001b[0mkey\u001b[0m\u001b[1;33m)\u001b[0m\u001b[1;33m:\u001b[0m\u001b[1;33m\u001b[0m\u001b[1;33m\u001b[0m\u001b[0m\n\u001b[0;32m    868\u001b[0m                 \u001b[1;32mtry\u001b[0m\u001b[1;33m:\u001b[0m\u001b[1;33m\u001b[0m\u001b[1;33m\u001b[0m\u001b[0m\n\u001b[1;32m--> 869\u001b[1;33m                     \u001b[1;32mreturn\u001b[0m \u001b[0mself\u001b[0m\u001b[1;33m.\u001b[0m\u001b[0mobj\u001b[0m\u001b[1;33m.\u001b[0m\u001b[0m_get_value\u001b[0m\u001b[1;33m(\u001b[0m\u001b[1;33m*\u001b[0m\u001b[0mkey\u001b[0m\u001b[1;33m,\u001b[0m \u001b[0mtakeable\u001b[0m\u001b[1;33m=\u001b[0m\u001b[0mself\u001b[0m\u001b[1;33m.\u001b[0m\u001b[0m_takeable\u001b[0m\u001b[1;33m)\u001b[0m\u001b[1;33m\u001b[0m\u001b[1;33m\u001b[0m\u001b[0m\n\u001b[0m\u001b[0;32m    870\u001b[0m                 \u001b[1;32mexcept\u001b[0m \u001b[1;33m(\u001b[0m\u001b[0mKeyError\u001b[0m\u001b[1;33m,\u001b[0m \u001b[0mIndexError\u001b[0m\u001b[1;33m,\u001b[0m \u001b[0mAttributeError\u001b[0m\u001b[1;33m)\u001b[0m\u001b[1;33m:\u001b[0m\u001b[1;33m\u001b[0m\u001b[1;33m\u001b[0m\u001b[0m\n\u001b[0;32m    871\u001b[0m                     \u001b[1;31m# AttributeError for IntervalTree get_value\u001b[0m\u001b[1;33m\u001b[0m\u001b[1;33m\u001b[0m\u001b[1;33m\u001b[0m\u001b[0m\n",
      "\u001b[1;31mKeyboardInterrupt\u001b[0m: "
     ]
    }
   ],
   "source": [
    "# measure similarity between descriptions using set diversity metrics\n",
    "\n",
    "def jacard_index(text_1, text_2):\n",
    "    return(len(set(text_1).intersection(set(text_2)))/len(set(text_1).union(set(text_2))))\n",
    "\n",
    "def get_jacard_index_matrix(df_text: pd.DataFrame):\n",
    "    df_jac = pd.DataFrame(np.nan, index=df_text.index, columns=df_text.index)\n",
    "    n = df_text.shape[0]\n",
    "    for i, j in combinations_with_replacement(range(n), 2):\n",
    "        df_jac.iloc[i, j] = jacard_index(df_text.iloc[i, 0],\n",
    "                                         df_text.iloc[j, 0])\n",
    "    return(df_jac)\n",
    "\n",
    "df_jac = get_jacard_index_matrix(df_text)"
   ]
  },
  {
   "cell_type": "code",
   "execution_count": null,
   "metadata": {},
   "outputs": [],
   "source": [
    "mask_analyst"
   ]
  },
  {
   "cell_type": "code",
   "execution_count": 20,
   "metadata": {},
   "outputs": [
    {
     "ename": "ValueError",
     "evalue": "Location based indexing can only have [integer, integer slice (START point is INCLUDED, END point is EXCLUDED), listlike of integers, boolean array] types",
     "output_type": "error",
     "traceback": [
      "\u001b[1;31m---------------------------------------------------------------------------\u001b[0m",
      "\u001b[1;31mValueError\u001b[0m                                Traceback (most recent call last)",
      "\u001b[1;32m~\\Anaconda3\\envs\\wmchack\\lib\\site-packages\\pandas\\core\\indexing.py\u001b[0m in \u001b[0;36m_has_valid_tuple\u001b[1;34m(self, key)\u001b[0m\n\u001b[0;32m    701\u001b[0m             \u001b[1;32mtry\u001b[0m\u001b[1;33m:\u001b[0m\u001b[1;33m\u001b[0m\u001b[1;33m\u001b[0m\u001b[0m\n\u001b[1;32m--> 702\u001b[1;33m                 \u001b[0mself\u001b[0m\u001b[1;33m.\u001b[0m\u001b[0m_validate_key\u001b[0m\u001b[1;33m(\u001b[0m\u001b[0mk\u001b[0m\u001b[1;33m,\u001b[0m \u001b[0mi\u001b[0m\u001b[1;33m)\u001b[0m\u001b[1;33m\u001b[0m\u001b[1;33m\u001b[0m\u001b[0m\n\u001b[0m\u001b[0;32m    703\u001b[0m             \u001b[1;32mexcept\u001b[0m \u001b[0mValueError\u001b[0m \u001b[1;32mas\u001b[0m \u001b[0merr\u001b[0m\u001b[1;33m:\u001b[0m\u001b[1;33m\u001b[0m\u001b[1;33m\u001b[0m\u001b[0m\n",
      "\u001b[1;32m~\\Anaconda3\\envs\\wmchack\\lib\\site-packages\\pandas\\core\\indexing.py\u001b[0m in \u001b[0;36m_validate_key\u001b[1;34m(self, key, axis)\u001b[0m\n\u001b[0;32m   1368\u001b[0m         \u001b[1;32melse\u001b[0m\u001b[1;33m:\u001b[0m\u001b[1;33m\u001b[0m\u001b[1;33m\u001b[0m\u001b[0m\n\u001b[1;32m-> 1369\u001b[1;33m             \u001b[1;32mraise\u001b[0m \u001b[0mValueError\u001b[0m\u001b[1;33m(\u001b[0m\u001b[1;34mf\"Can only index by location with a [{self._valid_types}]\"\u001b[0m\u001b[1;33m)\u001b[0m\u001b[1;33m\u001b[0m\u001b[1;33m\u001b[0m\u001b[0m\n\u001b[0m\u001b[0;32m   1370\u001b[0m \u001b[1;33m\u001b[0m\u001b[0m\n",
      "\u001b[1;31mValueError\u001b[0m: Can only index by location with a [integer, integer slice (START point is INCLUDED, END point is EXCLUDED), listlike of integers, boolean array]",
      "\nThe above exception was the direct cause of the following exception:\n",
      "\u001b[1;31mValueError\u001b[0m                                Traceback (most recent call last)",
      "\u001b[1;32m<ipython-input-20-8712e3da1b18>\u001b[0m in \u001b[0;36m<module>\u001b[1;34m\u001b[0m\n\u001b[1;32m----> 1\u001b[1;33m \u001b[0mdf\u001b[0m\u001b[1;33m.\u001b[0m\u001b[0miloc\u001b[0m\u001b[1;33m[\u001b[0m\u001b[1;36m0\u001b[0m\u001b[1;33m,\u001b[0m \u001b[1;34m'description'\u001b[0m\u001b[1;33m]\u001b[0m\u001b[1;33m\u001b[0m\u001b[1;33m\u001b[0m\u001b[0m\n\u001b[0m",
      "\u001b[1;32m~\\Anaconda3\\envs\\wmchack\\lib\\site-packages\\pandas\\core\\indexing.py\u001b[0m in \u001b[0;36m__getitem__\u001b[1;34m(self, key)\u001b[0m\n\u001b[0;32m    871\u001b[0m                     \u001b[1;31m# AttributeError for IntervalTree get_value\u001b[0m\u001b[1;33m\u001b[0m\u001b[1;33m\u001b[0m\u001b[1;33m\u001b[0m\u001b[0m\n\u001b[0;32m    872\u001b[0m                     \u001b[1;32mpass\u001b[0m\u001b[1;33m\u001b[0m\u001b[1;33m\u001b[0m\u001b[0m\n\u001b[1;32m--> 873\u001b[1;33m             \u001b[1;32mreturn\u001b[0m \u001b[0mself\u001b[0m\u001b[1;33m.\u001b[0m\u001b[0m_getitem_tuple\u001b[0m\u001b[1;33m(\u001b[0m\u001b[0mkey\u001b[0m\u001b[1;33m)\u001b[0m\u001b[1;33m\u001b[0m\u001b[1;33m\u001b[0m\u001b[0m\n\u001b[0m\u001b[0;32m    874\u001b[0m         \u001b[1;32melse\u001b[0m\u001b[1;33m:\u001b[0m\u001b[1;33m\u001b[0m\u001b[1;33m\u001b[0m\u001b[0m\n\u001b[0;32m    875\u001b[0m             \u001b[1;31m# we by definition only have the 0th axis\u001b[0m\u001b[1;33m\u001b[0m\u001b[1;33m\u001b[0m\u001b[1;33m\u001b[0m\u001b[0m\n",
      "\u001b[1;32m~\\Anaconda3\\envs\\wmchack\\lib\\site-packages\\pandas\\core\\indexing.py\u001b[0m in \u001b[0;36m_getitem_tuple\u001b[1;34m(self, tup)\u001b[0m\n\u001b[0;32m   1441\u001b[0m     \u001b[1;32mdef\u001b[0m \u001b[0m_getitem_tuple\u001b[0m\u001b[1;33m(\u001b[0m\u001b[0mself\u001b[0m\u001b[1;33m,\u001b[0m \u001b[0mtup\u001b[0m\u001b[1;33m:\u001b[0m \u001b[0mTuple\u001b[0m\u001b[1;33m)\u001b[0m\u001b[1;33m:\u001b[0m\u001b[1;33m\u001b[0m\u001b[1;33m\u001b[0m\u001b[0m\n\u001b[0;32m   1442\u001b[0m \u001b[1;33m\u001b[0m\u001b[0m\n\u001b[1;32m-> 1443\u001b[1;33m         \u001b[0mself\u001b[0m\u001b[1;33m.\u001b[0m\u001b[0m_has_valid_tuple\u001b[0m\u001b[1;33m(\u001b[0m\u001b[0mtup\u001b[0m\u001b[1;33m)\u001b[0m\u001b[1;33m\u001b[0m\u001b[1;33m\u001b[0m\u001b[0m\n\u001b[0m\u001b[0;32m   1444\u001b[0m         \u001b[1;32mtry\u001b[0m\u001b[1;33m:\u001b[0m\u001b[1;33m\u001b[0m\u001b[1;33m\u001b[0m\u001b[0m\n\u001b[0;32m   1445\u001b[0m             \u001b[1;32mreturn\u001b[0m \u001b[0mself\u001b[0m\u001b[1;33m.\u001b[0m\u001b[0m_getitem_lowerdim\u001b[0m\u001b[1;33m(\u001b[0m\u001b[0mtup\u001b[0m\u001b[1;33m)\u001b[0m\u001b[1;33m\u001b[0m\u001b[1;33m\u001b[0m\u001b[0m\n",
      "\u001b[1;32m~\\Anaconda3\\envs\\wmchack\\lib\\site-packages\\pandas\\core\\indexing.py\u001b[0m in \u001b[0;36m_has_valid_tuple\u001b[1;34m(self, key)\u001b[0m\n\u001b[0;32m    705\u001b[0m                     \u001b[1;34m\"Location based indexing can only have \"\u001b[0m\u001b[1;33m\u001b[0m\u001b[1;33m\u001b[0m\u001b[0m\n\u001b[0;32m    706\u001b[0m                     \u001b[1;34mf\"[{self._valid_types}] types\"\u001b[0m\u001b[1;33m\u001b[0m\u001b[1;33m\u001b[0m\u001b[0m\n\u001b[1;32m--> 707\u001b[1;33m                 ) from err\n\u001b[0m\u001b[0;32m    708\u001b[0m \u001b[1;33m\u001b[0m\u001b[0m\n\u001b[0;32m    709\u001b[0m     \u001b[1;32mdef\u001b[0m \u001b[0m_is_nested_tuple_indexer\u001b[0m\u001b[1;33m(\u001b[0m\u001b[0mself\u001b[0m\u001b[1;33m,\u001b[0m \u001b[0mtup\u001b[0m\u001b[1;33m:\u001b[0m \u001b[0mTuple\u001b[0m\u001b[1;33m)\u001b[0m \u001b[1;33m->\u001b[0m \u001b[0mbool\u001b[0m\u001b[1;33m:\u001b[0m\u001b[1;33m\u001b[0m\u001b[1;33m\u001b[0m\u001b[0m\n",
      "\u001b[1;31mValueError\u001b[0m: Location based indexing can only have [integer, integer slice (START point is INCLUDED, END point is EXCLUDED), listlike of integers, boolean array] types"
     ]
    }
   ],
   "source": [
    "df.iloc[0, 'description']"
   ]
  },
  {
   "cell_type": "code",
   "execution_count": null,
   "metadata": {},
   "outputs": [],
   "source": []
  }
 ],
 "metadata": {
  "kernelspec": {
   "display_name": "Python 3",
   "language": "python",
   "name": "python3"
  },
  "language_info": {
   "codemirror_mode": {
    "name": "ipython",
    "version": 3
   },
   "file_extension": ".py",
   "mimetype": "text/x-python",
   "name": "python",
   "nbconvert_exporter": "python",
   "pygments_lexer": "ipython3",
   "version": "3.7.9"
  }
 },
 "nbformat": 4,
 "nbformat_minor": 4
}

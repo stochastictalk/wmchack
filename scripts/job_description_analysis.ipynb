{
 "cells": [
  {
   "cell_type": "markdown",
   "metadata": {},
   "source": [
    "# Job Description Analysis\n",
    "\n",
    "**Author**: Jerome Wynne (jeromewynne@das-ltd.co.uk)\n",
    "\n",
    "**Created**: 5th November 2020  \n",
    "\n",
    "**Environment**: wmchack\n",
    "\n",
    "**Summary**: Classifying job roles: An NLP challenge using NHS Job descriptions, matching to Professional groups to (i.e. using FEDIP & AphA definition of analytical or civil service GORS/GSS/GDS)."
   ]
  },
  {
   "cell_type": "markdown",
   "metadata": {},
   "source": [
    "---\n",
    "\n",
    "### Write list of JSON files to Feather format "
   ]
  },
  {
   "cell_type": "code",
   "execution_count": 22,
   "metadata": {},
   "outputs": [],
   "source": [
    "import pandas as pd\n",
    "from glob import glob\n",
    "import json\n",
    "from time import time"
   ]
  },
  {
   "cell_type": "code",
   "execution_count": 14,
   "metadata": {},
   "outputs": [],
   "source": [
    "def load_job_descriptions():\n",
    "    ''' Reads all .json files in /data into dataframe.\n",
    "\n",
    "        The dataframe constructed can be viewed in /logs/info.log.\n",
    "\n",
    "        Returns:\n",
    "            pd.DataFrame: dataframe where each row corresponds to one \n",
    "                            file.\n",
    "    '''\n",
    "    fps = glob(r'..\\data\\*.json')\n",
    "    fps = [fp for fp in fps if 'example' not in fp] # remove example.json\n",
    "    list_of_page_dct = []\n",
    "    for fp in fps: # read all of the files into a list of dicts\n",
    "        with open(fp, 'r', encoding='utf-8') as f:\n",
    "            list_of_page_dct += [json.load(f)]\n",
    "    \n",
    "    # flatten the list of dicts to a DataFrame\n",
    "    df = pd.json_normalize(list_of_page_dct)\n",
    "\n",
    "    return(df)"
   ]
  },
  {
   "cell_type": "code",
   "execution_count": 26,
   "metadata": {},
   "outputs": [],
   "source": [
    "df = load_job_descriptions()\n",
    "df.to_feather('../data/20201105_' + str(int(time())) + '_nhs_job_descriptions.feather')"
   ]
  },
  {
   "cell_type": "code",
   "execution_count": null,
   "metadata": {},
   "outputs": [],
   "source": []
  }
 ],
 "metadata": {
  "kernelspec": {
   "display_name": "Python 3",
   "language": "python",
   "name": "python3"
  },
  "language_info": {
   "codemirror_mode": {
    "name": "ipython",
    "version": 3
   },
   "file_extension": ".py",
   "mimetype": "text/x-python",
   "name": "python",
   "nbconvert_exporter": "python",
   "pygments_lexer": "ipython3",
   "version": "3.7.9"
  }
 },
 "nbformat": 4,
 "nbformat_minor": 4
}
